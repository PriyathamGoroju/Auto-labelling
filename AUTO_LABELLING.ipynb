{
 "cells": [
  {
   "cell_type": "markdown",
   "id": "cc8955f7",
   "metadata": {},
   "source": [
    "### Importing required libraries"
   ]
  },
  {
   "cell_type": "code",
   "execution_count": 1,
   "id": "f35ad824",
   "metadata": {},
   "outputs": [],
   "source": [
    "import numpy as np\n",
    "import pandas as pd\n",
    "from mpmath import mpf\n",
    "import matplotlib.pyplot as plt"
   ]
  },
  {
   "cell_type": "markdown",
   "id": "faac6964",
   "metadata": {},
   "source": [
    "### Reading and preparing dataset with only 2,3,4 containing clusters"
   ]
  },
  {
   "cell_type": "code",
   "execution_count": 2,
   "id": "344eb1b2",
   "metadata": {
    "scrolled": true
   },
   "outputs": [],
   "source": [
    "D = pd.read_csv('mnist234.csv')\n",
    "D = D.drop(D.columns[0], axis = 1)\n",
    "X = D.groupby(['label'])\n",
    "K = 3\n",
    "Y = list(X)\n",
    "X1 = Y[0][1].iloc[:,1:]//128\n",
    "Y1 = Y[0][1].iloc[:,0]\n",
    "X2 = Y[1][1].iloc[:,1:]//128\n",
    "Y2 = Y[1][1].iloc[:,0]\n",
    "X3 = Y[2][1].iloc[:,1:]//128\n",
    "Y3 = Y[2][1].iloc[:,0]\n",
    "X = pd.concat([X1,X2,X3])\n",
    "X['label'] = pd.concat([Y1,Y2,Y3])\n",
    "Y = list(X['label'])\n",
    "X = X.iloc[:,:-1].to_numpy()\n",
    "N = len(X)"
   ]
  },
  {
   "cell_type": "markdown",
   "id": "009cbed1",
   "metadata": {},
   "source": [
    "### Randomly assigning means and and probabilities and normalising them"
   ]
  },
  {
   "cell_type": "code",
   "execution_count": 4,
   "id": "608495c5",
   "metadata": {},
   "outputs": [],
   "source": [
    "# random no. assigning\n",
    "# Mu = np.random.rand(3,784)\n",
    "Mu=[]\n",
    "for i in range(3):\n",
    "    Mu.append(np.random.uniform(0.25,0.76,784))\n",
    "\n",
    "P = np.random.rand(3)\n",
    "P = P/sum(P)\n",
    "Mu[0] = Mu[0]/sum(Mu[0])\n",
    "Mu[2] = Mu[2]/sum(Mu[2])\n",
    "Mu[1] = Mu[1]/sum(Mu[1])"
   ]
  },
  {
   "cell_type": "markdown",
   "id": "06f106b5",
   "metadata": {},
   "source": [
    "### Running EM algorithm"
   ]
  },
  {
   "cell_type": "code",
   "execution_count": 5,
   "id": "b1b16e91",
   "metadata": {
    "scrolled": true
   },
   "outputs": [
    {
     "name": "stdout",
     "output_type": "stream",
     "text": [
      "9.467263940764532\n",
      "1\n",
      "3.5138818493074586\n",
      "2\n",
      "1.0904665829878808\n",
      "3\n",
      "0.5741930334131647\n",
      "4\n",
      "0.4431756601324198\n",
      "5\n",
      "0.39670360549844547\n",
      "6\n",
      "0.20730138759110503\n",
      "7\n",
      "0.21920501872458986\n",
      "8\n",
      "0.15333085124568782\n",
      "9\n",
      "0.1386111540534842\n",
      "10\n",
      "0.16722896554701558\n",
      "11\n",
      "0.09422882838083711\n",
      "12\n",
      "0.05851627352181368\n",
      "13\n",
      "0.05382817137847184\n",
      "14\n",
      "0.10619993035864052\n",
      "15\n",
      "0.09082148819397576\n",
      "16\n",
      "0.08022226321669067\n",
      "17\n",
      "0.047249651462857624\n",
      "18\n",
      "0.035753367188145736\n",
      "19\n",
      "0.011689887854353265\n",
      "20\n",
      "0.011471732617247108\n",
      "21\n",
      "0.011504530841704993\n",
      "22\n",
      "0.010370755225702877\n",
      "23\n",
      "0.010165699789692456\n",
      "24\n",
      "0.013262501216917194\n",
      "25\n",
      "0.014807967174119042\n",
      "26\n",
      "0.008131546216857678\n",
      "27\n",
      "0.0029567844896220817\n",
      "28\n",
      "0.0022026880750683473\n",
      "29\n",
      "0.0021623794557830973\n",
      "30\n",
      "0.0023122142499654007\n",
      "31\n",
      "0.0026697928771482176\n",
      "32\n",
      "0.003340083361726948\n",
      "33\n",
      "0.004565119502704788\n",
      "34\n",
      "0.006899188494559526\n",
      "35\n",
      "0.011631012354437364\n",
      "36\n",
      "0.021141886613697806\n",
      "37\n",
      "0.04993070930028682\n",
      "38\n",
      "0.045578195045558774\n",
      "39\n",
      "0.004658264474769608\n",
      "40\n",
      "0.00703673144987366\n",
      "41\n",
      "0.03655682208228388\n",
      "42\n",
      "0.01875815058887831\n",
      "43\n",
      "0.0014525504453249064\n",
      "44\n",
      "0.0012198117427675685\n",
      "45\n",
      "0.0014885515519101316\n",
      "46\n",
      "0.0019978626230358217\n",
      "47\n",
      "0.0029786123834531567\n",
      "48\n",
      "0.005103767390712512\n",
      "49\n",
      "0.010586745102809152\n",
      "50\n"
     ]
    }
   ],
   "source": [
    "OldM, NewM = Mu.copy(),Mu.copy()\n",
    "OldPb, NewPb = P.copy(),P.copy()\n",
    "ITER = 0\n",
    "\n",
    "while(ITER<50):\n",
    "    F = []\n",
    "    for i in range(K):\n",
    "        F.append([])\n",
    "    OldM = NewM.copy()\n",
    "    OldPb = NewPb.copy()\n",
    "\n",
    "    Gamma = np.zeros([N,K])\n",
    "\n",
    "# E step\n",
    "    for I in range(N):\n",
    "        for J in range(K):\n",
    "            mult = 1\n",
    "            for i in range(784):\n",
    "                a,b = 1,1\n",
    "                mult = mult*np.power(OldM[J][i],X[I][i])*np.power(1-OldM[J][i],1-X[I][i])\n",
    "#                 if (X[I][i] == 1):\n",
    "#                     a=OldM[J][i]\n",
    "#                 else:\n",
    "#                     b = 1-OldM[J][i]\n",
    "#                 mult *= a*b\n",
    "            F[J].append(mult)\n",
    "\n",
    "    for n in range(N):\n",
    "        for k in range(K):\n",
    "            Sum = 0\n",
    "            for j1 in range(K):\n",
    "                    Sum = Sum + OldPb[j1]*F[j1][n]\n",
    "            if(OldPb[k]*F[k][n] == 0):\n",
    "                Gamma[n][k] = 0\n",
    "            elif (Sum == 0 and Gamma[n][k] != 0):      #if Sum is zero we took directly gamma to be 0.\n",
    "                Gamma[n][k] = 0\n",
    "            else:    \n",
    "                Gamma[n][k] = (OldPb[k]*F[k][n])/(Sum)\n",
    "\n",
    "# M step\n",
    "\n",
    "    for j in range(K):\n",
    "        N1 = np.zeros(784)\n",
    "        D1 = 0\n",
    "        \n",
    "        for i in range(N):\n",
    "            N1 += Gamma[i][j]*X[i]\n",
    "            D1 += Gamma[i][j].copy()\n",
    "        \n",
    "        NewM[j]= N1/D1\n",
    "        NewPb[j] = D1/N\n",
    "    print(np.linalg.norm(np.array(NewM) - np.array(OldM)))\n",
    "#     if(np.linalg.norm(np.array(NewM) - np.array(OldM)) < 10**(-4)):\n",
    "#         print('BREAK')\n",
    "#         break\n",
    "    ITER += 1\n",
    "    print(ITER)"
   ]
  },
  {
   "cell_type": "markdown",
   "id": "7d7c7b30",
   "metadata": {},
   "source": [
    "### Classifying clusters based on means obtained from EM algorithm"
   ]
  },
  {
   "cell_type": "code",
   "execution_count": 6,
   "id": "c452aad4",
   "metadata": {
    "scrolled": false
   },
   "outputs": [
    {
     "name": "stdout",
     "output_type": "stream",
     "text": [
      "[4.545061302380493, 0.5652099515294995, 5.752801913928852]\n",
      "[5.190481500913655, 5.604340707901473, 0.6249101178175426]\n",
      "[0.994588432074057, 4.698201586125725, 4.515899925815926]\n"
     ]
    },
    {
     "data": {
      "text/plain": [
       "[3, 4, 2]"
      ]
     },
     "execution_count": 6,
     "metadata": {},
     "output_type": "execute_result"
    }
   ],
   "source": [
    "Cl = [[],[],[]]\n",
    "Cl[0] = sum(X1.to_numpy())/len(X1)\n",
    "Cl[1] = sum(X2.to_numpy())/len(X2)\n",
    "Cl[2] = sum(X3.to_numpy())/len(X3)\n",
    "M_L = []\n",
    "for i in range(K):\n",
    "    L = []\n",
    "    for j in range(K):\n",
    "        ST = np.linalg.norm(NewM[i] - Cl[j])\n",
    "        L.append(ST)\n",
    "    print(L)\n",
    "    m = min(L)\n",
    "    n = L.index(m)\n",
    "    M_L.append(n+2)\n",
    "M_L"
   ]
  },
  {
   "cell_type": "markdown",
   "id": "af426811",
   "metadata": {},
   "source": [
    "### Function for prediction"
   ]
  },
  {
   "cell_type": "code",
   "execution_count": 7,
   "id": "acd1dfc9",
   "metadata": {},
   "outputs": [],
   "source": [
    "def CHECK(X,NM):\n",
    "    L = []\n",
    "    for i in range(len(NM)):\n",
    "        mult = 1\n",
    "        for k in range(784):\n",
    "            mult *= np.power(NM[i][k],X[k])*np.power(1-NM[i][k],1-X[k])\n",
    "        L.append(mult)\n",
    "    m = max(L)\n",
    "    n = L.index(m)\n",
    "    return M_L[n]"
   ]
  },
  {
   "cell_type": "markdown",
   "id": "7ae38a81",
   "metadata": {},
   "source": [
    "### Predicting the clusters"
   ]
  },
  {
   "cell_type": "code",
   "execution_count": 8,
   "id": "f59380e3",
   "metadata": {},
   "outputs": [],
   "source": [
    "Predicted = []\n",
    "for i in range(N):\n",
    "    Predicted.append(CHECK(X[i],NewM))"
   ]
  },
  {
   "cell_type": "markdown",
   "id": "c81d0950",
   "metadata": {},
   "source": [
    "### Calculating error count"
   ]
  },
  {
   "cell_type": "code",
   "execution_count": 9,
   "id": "ef5f3e52",
   "metadata": {
    "scrolled": false
   },
   "outputs": [],
   "source": [
    "error  = 0\n",
    "for  i in range(N):\n",
    "    if (Y[i]!=Predicted[i]):\n",
    "        error += 1"
   ]
  },
  {
   "cell_type": "code",
   "execution_count": 10,
   "id": "ea7d963a",
   "metadata": {},
   "outputs": [
    {
     "name": "stdout",
     "output_type": "stream",
     "text": [
      "113 misclassifed in 600\n",
      "Accuracy = 81.16666666666667\n"
     ]
    }
   ],
   "source": [
    "print(error,'misclassifed in',N)\n",
    "print(\"Accuracy =\",100 - (error/N)*100)"
   ]
  },
  {
   "cell_type": "markdown",
   "id": "21b18e12",
   "metadata": {},
   "source": [
    "### Image of 1st mean from EM algorithm"
   ]
  },
  {
   "cell_type": "code",
   "execution_count": 11,
   "id": "1e1799da",
   "metadata": {},
   "outputs": [
    {
     "data": {
      "image/png": "[encoded data removed]",
      "text/plain": [
       "<Figure size 432x288 with 1 Axes>"
      ]
     },
     "metadata": {
      "needs_background": "light"
     },
     "output_type": "display_data"
    }
   ],
   "source": [
    "IMG = np.array(NewM[0], dtype='float')\n",
    "pixels = IMG.reshape((28, 28))\n",
    "plt.imshow(pixels, cmap='gray')\n",
    "plt.show()"
   ]
  },
  {
   "cell_type": "markdown",
   "id": "64243061",
   "metadata": {},
   "source": [
    "### Image of 2nd mean from EM algorithm"
   ]
  },
  {
   "cell_type": "code",
   "execution_count": 12,
   "id": "9be4b379",
   "metadata": {},
   "outputs": [
    {
     "data": {
      "image/png": "[encoded data removed]",
      "text/plain": [
       "<Figure size 432x288 with 1 Axes>"
      ]
     },
     "metadata": {
      "needs_background": "light"
     },
     "output_type": "display_data"
    }
   ],
   "source": [
    "IMG = np.array(NewM[1], dtype='float')\n",
    "pixels = IMG.reshape((28, 28))\n",
    "plt.imshow(pixels, cmap='gray')\n",
    "plt.show()"
   ]
  },
  {
   "cell_type": "markdown",
   "id": "75f29f03",
   "metadata": {},
   "source": [
    "### Image of 3rd mean from EM algorithm"
   ]
  },
  {
   "cell_type": "code",
   "execution_count": 13,
   "id": "16ca5e3c",
   "metadata": {},
   "outputs": [
    {
     "data": {
      "image/png": "[encoded data removed]",
      "text/plain": [
       "<Figure size 432x288 with 1 Axes>"
      ]
     },
     "metadata": {
      "needs_background": "light"
     },
     "output_type": "display_data"
    }
   ],
   "source": [
    "IMG = np.array(NewM[2], dtype='float')\n",
    "pixels = IMG.reshape((28, 28))\n",
    "plt.imshow(pixels, cmap='gray')\n",
    "plt.show()"
   ]
  }
 ],
 "metadata": {
  "kernelspec": {
   "display_name": "Python 3",
   "language": "python",
   "name": "python3"
  },
  "language_info": {
   "codemirror_mode": {
    "name": "ipython",
    "version": 3
   },
   "file_extension": ".py",
   "mimetype": "text/x-python",
   "name": "python",
   "nbconvert_exporter": "python",
   "pygments_lexer": "ipython3",
   "version": "3.8.8"
  }
 },
 "nbformat": 4,
 "nbformat_minor": 5
}
